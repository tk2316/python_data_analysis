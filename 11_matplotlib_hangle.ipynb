{
 "cells": [
  {
   "cell_type": "code",
   "execution_count": 1,
   "id": "160412a5",
   "metadata": {},
   "outputs": [],
   "source": [
    "import warnings\n",
    "warnings.filterwarnings('ignore')\n",
    "import pandas as pd\n",
    "import numpy as np\n",
    "import seaborn as sns\n",
    "from IPython.display import Image\n",
    "import matplotlib.pyplot as plt\n",
    "import matplotlib as mpl\n",
    "import matplotlib.font_manager as fm\n",
    "#한글 폰트를 사용할 때 마이너스 데이터가 깨져보이는 문제를 해결한다.\n",
    "mpl.rcParams['axes.unicode_minus'] = False\n",
    "\n",
    "# 그래프를 쥬피터 노트북 내부에 표시하기 위해 사용한다\n",
    "# 이제는 굳이 안써도 된다\n",
    "%matplotlib inline"
   ]
  },
  {
   "cell_type": "code",
   "execution_count": 3,
   "id": "b084679a",
   "metadata": {},
   "outputs": [
    {
     "data": {
      "text/plain": [
       "array([-100,  -67,   15,   51,  124,   98,  121,  149,  213,  177,  226,\n",
       "        152,  177,  194,  158,  195,  221,  147,  152,  120,   60,   90,\n",
       "        162,  238,  225,  143,  131,  100,   53,   74,  134,   68,   72,\n",
       "         38,  112,  188,  201,  240,  185,  200,  271,  321,  348,  415,\n",
       "        401,  383,  399,  370,  420,  518], dtype=int32)"
      ]
     },
     "execution_count": 3,
     "metadata": {},
     "output_type": "execute_result"
    }
   ],
   "source": [
    "# 그래프를 그리기 위한 데이터를 만든다.\n",
    "data = np.random.randint(-100, 100, 50).cumsum()\n",
    "data"
   ]
  },
  {
   "cell_type": "code",
   "execution_count": null,
   "id": "12e7472f",
   "metadata": {},
   "outputs": [],
   "source": [
    "#matplotlib의 기본 폰트로 sans-serif가 지정되어있기 때문에 한글이 꺠저서 보인다\n",
    "plt.plot(range(50), data, 'r')\n",
    "plt.rcParams['figure.figsize'] = (20, 7)    #차트 크기 바꾸기\n",
    "plt.title(\"시간별 가격 추이\") #차트 제목\n",
    "plt.ylabel('가격')\n",
    "plt.xlabel('시간')\n",
    "plt.show()"
   ]
  },
  {
   "cell_type": "code",
   "execution_count": null,
   "id": "ef599f36",
   "metadata": {},
   "outputs": [],
   "source": [
    "# 폰트를 설정하기에 앞서 matplotlib외 설정 정보(버전, 위치)를 확인한다.\n",
    "print('버전: ', mpl.__version__)\n",
    "print('설치위치: ', mpl.__file__)\n",
    "print('설정위치: ', mpl.get_configdir())\n",
    "print('캐시 위치: ', mpl.get_cachedir())"
   ]
  },
  {
   "cell_type": "code",
   "execution_count": null,
   "id": "0c4a45a6",
   "metadata": {},
   "outputs": [],
   "source": [
    "# matplotlib 설정 파일 위치를 확인한다.\n",
    "print('설정 파일위치: ', mpl.matplotlib_fname())"
   ]
  },
  {
   "cell_type": "code",
   "execution_count": null,
   "id": "7591de34",
   "metadata": {},
   "outputs": [],
   "source": [
    "#컴퓨터에 설치된 폰트 목록을 얻어온다\n",
    "font_list = fm.findSystemFonts(fontpaths = None, fontext='ttf')\n",
    "print(len(font_list))\n",
    "print(font_list[:10])"
   ]
  },
  {
   "cell_type": "code",
   "execution_count": null,
   "id": "64b0082f",
   "metadata": {},
   "outputs": [],
   "source": [
    "font_list = [f.name for f in fm.fontManager.ttflist]\n",
    "print(len(font_list))\n",
    "print(font_list[:\n",
    "                \n",
    "                10])"
   ]
  },
  {
   "cell_type": "code",
   "execution_count": null,
   "id": "0b25ff8b",
   "metadata": {},
   "outputs": [],
   "source": [
    "font_list = [f.name for f in fm.fontManager.ttflist]\n",
    "font_list"
   ]
  },
  {
   "cell_type": "code",
   "execution_count": null,
   "id": "2bbddfeb",
   "metadata": {},
   "outputs": [],
   "source": [
    "font_list = [f.fname for f in fm.fontManager.ttflist]\n",
    "font_list"
   ]
  },
  {
   "cell_type": "code",
   "execution_count": null,
   "id": "8649ac5e",
   "metadata": {},
   "outputs": [],
   "source": [
    "# 나눔 글꼴을 사용할 예저이므로 이름에 \"Nanum\"이 포함된 폰트만 가져온다.\n",
    "font_list = [(f.name, f.fname) for f in fm.fontManager.ttflist if 'Nanum' in f.name]\n",
    "font_list"
   ]
  },
  {
   "cell_type": "code",
   "execution_count": null,
   "id": "4ee22033",
   "metadata": {},
   "outputs": [],
   "source": [
    "#위의 식을 실행한 결과가 []로 나오면 캐시 포더로 이동해 폴더의 모든 내용을 삭제한 후 실행해본다\n",
    "#그래도 안되면 아래의 식을 실행한다\n",
    "mpl.font_manager._rebuild()  #가능하면 실행안하는게 좋다"
   ]
  },
  {
   "cell_type": "markdown",
   "id": "0449f020",
   "metadata": {},
   "source": [
    "한글 폰트를 사용하는 방법은 3가지가 있다."
   ]
  },
  {
   "cell_type": "code",
   "execution_count": null,
   "id": "7c2e0c81",
   "metadata": {},
   "outputs": [],
   "source": [
    "# 1. FontProperties를 사용하는 방법 => 그래프의 폰트가 필요한 항목마다 지정한다\n",
    "# 텍스트를 지정하는 항목에 지정해서 사용할 수 있고 지정해준 항목에만 해당 폰트가 적용된다\n",
    "# matplotlib.pyplot => title(), xlabel(), ylabel(), legend()\n",
    "# matplotlib.axes => set_title()\n",
    "\n",
    "# 한글 폰트 파일의 경로와 이름을 지정한다.\n",
    "font = \"C:\\\\WINDOWS\\\\Fonts\\\\NanumGothicCoding-Bold.ttf\"\n",
    "fontprop = fm.FontProperties(fname = font, size = 15)"
   ]
  },
  {
   "cell_type": "code",
   "execution_count": null,
   "id": "87924a4a",
   "metadata": {},
   "outputs": [],
   "source": [
    "plt.plot(range(50), data, 'r')\n",
    "plt.rcParams['figure.figsize'] = (20, 7)    #차트 크기 바꾸기\n",
    "plt.title(\"시간별 가격 추이\", fontproperties = fontprop) #차트 제목\n",
    "plt.ylabel('가격',fontproperties = fontprop)\n",
    "plt.xlabel('시간', fontproperties = fontprop)\n",
    "plt.show()"
   ]
  },
  {
   "cell_type": "code",
   "execution_count": null,
   "id": "dd3873a4",
   "metadata": {},
   "outputs": [],
   "source": [
    "# 2. matplotlib 라이브러리의 rcParams[]로 전역 글꼴로 성정한다 => 쥬피터 노트북에서 파일을 실행할 때 마다 해줘야 한다.\n",
    "print('기본으로 설정된 폰트 이름: ', plt.rcParams['font.family'])\n",
    "print('기본으로 설정된 폰트 크기: ', plt.rcParams['font.size'])"
   ]
  },
  {
   "cell_type": "code",
   "execution_count": null,
   "id": "37abb066",
   "metadata": {},
   "outputs": [],
   "source": [
    "# 2-1\n",
    "plt.rcParams['font.family'] = 'NanumGothicCoding'\n",
    "plt.rcParams['font.size'] = '15'"
   ]
  },
  {
   "cell_type": "code",
   "execution_count": null,
   "id": "830d768c",
   "metadata": {},
   "outputs": [],
   "source": [
    "plt.plot(range(50), data, 'r')\n",
    "plt.rcParams['figure.figsize'] = (20, 7)    #차트 크기 바꾸기\n",
    "plt.title(\"시간별 가격 추이\") #차트 제목\n",
    "plt.ylabel('가격')\n",
    "plt.xlabel('시간')\n",
    "plt.show()\n",
    "\n",
    "#fontproperties = fontprop 생략해도 되는 방법."
   ]
  },
  {
   "cell_type": "code",
   "execution_count": null,
   "id": "04d43bff",
   "metadata": {},
   "outputs": [],
   "source": [
    "# 2-2\n",
    "# rcParams[] Eotls FontProperties의 plt.rc를 사용하는 방법\n",
    "font = \"C:\\\\WINDOWS\\\\Fonts\\\\NanumGothicCoding-Bold.ttf\"\n",
    "font_name = fm.FontProperties(fname = font, size = 15).get_name()\n",
    "plt.rc('font', family=font_name)"
   ]
  },
  {
   "cell_type": "code",
   "execution_count": null,
   "id": "29f6bf65",
   "metadata": {},
   "outputs": [],
   "source": [
    "plt.plot(range(50), data, 'r')\n",
    "plt.rcParams['figure.figsize'] = (20, 7)    #차트 크기 바꾸기\n",
    "plt.title(\"시간별 가격 추이\") #차트 제목\n",
    "plt.ylabel('가격')\n",
    "plt.xlabel('시간')\n",
    "plt.show()\n",
    "\n"
   ]
  },
  {
   "cell_type": "code",
   "execution_count": null,
   "id": "9ea5d306",
   "metadata": {},
   "outputs": [],
   "source": [
    "# 3. rcParams를 matplotlib 설정 파일에 직접 넣어준다 => 현재 컴퓨터의 모든 쥬피터 노트북에 적용된다\n",
    "# font.family: NanumGothicCoding\n",
    "# 이곳에 폰트를 지정해 주면 현재 컴퓨터에서 쥬피터 노트북을 실행할 때 마다 마로 글꼴이 로드되도록 할 수 있다"
   ]
  },
  {
   "cell_type": "code",
   "execution_count": 4,
   "id": "7af7bf13",
   "metadata": {},
   "outputs": [
    {
     "data": {
      "image/png": "[encoded data removed]",
      "text/plain": [
       "<Figure size 432x288 with 1 Axes>"
      ]
     },
     "metadata": {
      "needs_background": "light"
     },
     "output_type": "display_data"
    }
   ],
   "source": [
    "plt.plot(range(50), data, 'r')\n",
    "plt.rcParams['figure.figsize'] = (20, 7)    #차트 크기 바꾸기\n",
    "plt.title(\"시간별 가격 추이\") #차트 제목\n",
    "plt.ylabel('가격')\n",
    "plt.xlabel('시간')\n",
    "plt.show()"
   ]
  },
  {
   "cell_type": "code",
   "execution_count": null,
   "id": "5368f7f7",
   "metadata": {},
   "outputs": [],
   "source": []
  }
 ],
 "metadata": {
  "kernelspec": {
   "display_name": "Python 3",
   "language": "python",
   "name": "python3"
  },
  "language_info": {
   "codemirror_mode": {
    "name": "ipython",
    "version": 3
   },
   "file_extension": ".py",
   "mimetype": "text/x-python",
   "name": "python",
   "nbconvert_exporter": "python",
   "pygments_lexer": "ipython3",
   "version": "3.6.8"
  }
 },
 "nbformat": 4,
 "nbformat_minor": 5
}
