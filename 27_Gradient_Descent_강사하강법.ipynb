{
 "cells": [
  {
   "cell_type": "markdown",
   "id": "f09310ef",
   "metadata": {},
   "source": [
    "경사 하강법 (Gradient Descent)    \n",
    "기울기를 너무 크게 잡으면 오차가 커지고 기울기를 너무 작게잡아도 오차가 커진다.   \n",
    "기울기를 무한대로 키우면 오차도 무한대로 커지고 기울기를 무한대로 작게해도 오차는 무한대로 커진다."
   ]
  },
  {
   "cell_type": "code",
   "execution_count": 1,
   "id": "a52972a7",
   "metadata": {},
   "outputs": [
    {
     "name": "stdout",
     "output_type": "stream",
     "text": [
      "WARNING:tensorflow:From c:\\python\\lib\\site-packages\\tensorflow\\python\\compat\\v2_compat.py:101: disable_resource_variables (from tensorflow.python.ops.variable_scope) is deprecated and will be removed in a future version.\n",
      "Instructions for updating:\n",
      "non-resource variables are not supported in the long term\n"
     ]
    }
   ],
   "source": [
    "import warnings\n",
    "warnings.filterwarnings('ignore')\n",
    "import numpy as np\n",
    "import pandas as pd\n",
    "import tensorflow.compat.v1 as tf\n",
    "tf.disable_v2_behavior()"
   ]
  },
  {
   "cell_type": "code",
   "execution_count": 2,
   "id": "aedff360",
   "metadata": {},
   "outputs": [],
   "source": [
    "# 학습 데이터를 만든다.\n",
    "data = [[2,81], [4,93], [6, 91], [8, 97]]  # [공부한 시간 (x), 실제 성적(y)]\n",
    "xData = [i[0] for i in data] # 공부한 시간\n",
    "yData = [i[1] for i in data] # 시험 성적\n",
    "# OLS(ordinary least squares)로 찾은 a => 기울기: 2.3   b => y 절편: 79.0\n"
   ]
  },
  {
   "cell_type": "code",
   "execution_count": 3,
   "id": "7d6cee1f",
   "metadata": {},
   "outputs": [
    {
     "name": "stdout",
     "output_type": "stream",
     "text": [
      "a: 7.518737316131592, b: 99.28275299072266\n"
     ]
    }
   ],
   "source": [
    "# 기울기 a와 y절편 b를 임의로 정한다.\n",
    "# 기울기의 범위는 0 ~ 10 사이이며, y절편의 범위는 0 ~ 100 사이에서 임의로 변하게 한다.\n",
    "# random_uniform(): tensorflow에서 난수를 발생시키는 함수\n",
    "# random_uniform([난수의 개수(차원)], 남수의 최소값, 남수의 최대값, dtype=난수의 데이터 타입, seed=숫자)\n",
    "# 난수 발생이 seed를 지정하면 항상 일정한 배열의 난수가 발생된다.\n",
    "a = tf.Variable(tf.random_uniform([1], 0, 10, dtype=tf.float32))\n",
    "b = tf.Variable(tf.random_uniform([1], 0, 100, dtype=tf.float32))\n",
    "sess = tf.Session()\n",
    "sess.run(tf.global_variables_initializer())\n",
    "print('a: {}, b: {}'.format(sess.run(a)[0], sess.run(b)[0]))"
   ]
  },
  {
   "cell_type": "code",
   "execution_count": 4,
   "id": "194ccec0",
   "metadata": {},
   "outputs": [],
   "source": [
    "# 예측 성적(y)를 얻기위한 가설(수식)을 만든다.\n",
    "y = a * xData + b"
   ]
  },
  {
   "cell_type": "code",
   "execution_count": 5,
   "id": "80c20599",
   "metadata": {},
   "outputs": [],
   "source": [
    "# tensorflow에서 실행할 RMSE(평균 제곱근 오차) 수식(오차(비용) 함수)을 만든다.\n",
    "# tf.square(y - yData) => 예측 성적(y)과 실제 성적(yData)의 편차의 제곱을 계산한다. => 오차가 무조건 양수로 나오게 한다.\n",
    "# tf.reduce_mean(tf.square(y - yData)) => 예측 성적과 실제 성적의 편차의 제곱에 대한 평균을 계산한다.\n",
    "# tf.sqrt(tf.reduce_mean(tf.square(y - yData))) => 예측 성적과 실제 성적의 편차의 제곱에 대한 평균의 제곱근을 계산한다.\n",
    "rmse = tf.sqrt(tf.reduce_mean(tf.square(y - yData)))   #오차함수"
   ]
  },
  {
   "cell_type": "code",
   "execution_count": 6,
   "id": "0839b364",
   "metadata": {},
   "outputs": [],
   "source": [
    "# 강사 하강법 알고리즘을 이용해서 RMSE를 회소로 하는 값을 찾는 수식을 만든다.\n",
    "# 학습율을 정한다. 강사 하강할때 학습율이 너무 크면 최소값을 지나칠 수 있다. 반대로 학습율이 너무 낮으면 최소값을 찾는데 너무 많은 시간이 걸린다.\n",
    "learning_rate = 0.1\n",
    "# tf.train.GradientDescentOptimizer(학습율): 학습율에 따른 경사 하강 알고리즘을 계산한다. \n",
    "gradient_descent = tf.train.GradientDescentOptimizer(learning_rate).minimize(rmse) #오차함수의 실행값이 최소값이 되게 실행."
   ]
  },
  {
   "cell_type": "markdown",
   "id": "d61fe053",
   "metadata": {},
   "source": [
    "학습율 시킨다"
   ]
  },
  {
   "cell_type": "code",
   "execution_count": 7,
   "id": "388dca26",
   "metadata": {},
   "outputs": [
    {
     "name": "stdout",
     "output_type": "stream",
     "text": [
      "Epoch:    0, RMSE: 49.7082, 기울기:  8.6220, y절편: 94.9586\n",
      "Epoch:  200, RMSE:  4.4133, 기울기:  0.9278, y절편: 87.1887\n",
      "Epoch:  400, RMSE:  3.1933, 기울기:  1.7346, y절편: 82.3738\n",
      "Epoch:  600, RMSE:  2.9188, 기울기:  2.1079, y절편: 80.1465\n",
      "Epoch:  800, RMSE:  2.8850, 기울기:  2.2375, y절편: 79.3730\n",
      "Epoch: 1000, RMSE:  2.8814, 기울기:  2.2798, y절편: 79.1207\n",
      "Epoch: 1200, RMSE:  2.8810, 기울기:  2.2935, y절편: 79.0391\n",
      "Epoch: 1400, RMSE:  2.8810, 기울기:  2.2979, y절편: 79.0126\n",
      "Epoch: 1600, RMSE:  2.8810, 기울기:  2.2993, y절편: 79.0041\n",
      "Epoch: 1800, RMSE:  2.8810, 기울기:  2.2998, y절편: 79.0014\n",
      "Epoch: 2000, RMSE:  2.8810, 기울기:  2.2999, y절편: 79.0006\n",
      "Epoch: 2200, RMSE:  2.8810, 기울기:  2.2999, y절편: 79.0006\n",
      "Epoch: 2400, RMSE:  2.8810, 기울기:  2.2999, y절편: 79.0006\n",
      "Epoch: 2600, RMSE:  2.8810, 기울기:  2.2999, y절편: 79.0006\n",
      "Epoch: 2800, RMSE:  2.8810, 기울기:  2.2999, y절편: 79.0006\n",
      "Epoch: 3000, RMSE:  2.8810, 기울기:  2.2999, y절편: 79.0006\n"
     ]
    }
   ],
   "source": [
    "import time \n",
    "sess = tf.Session()\n",
    "sess.run(tf.global_variables_initializer())\n",
    "\n",
    "for i in range(3001):\n",
    "    sess.run(gradient_descent)\n",
    "    if i % 200 == 0:\n",
    "        # Epoch => 1번 학습을 의미하는 용어.\n",
    "        # RMSE는 학습을 통해 계속 줄꺼고, 지켜봐야하는 것들은 기울기(2.3)와 y절편(7.9)으로 가까워지는지 확인을 해야한다.\n",
    "        #print(\"Epoch: %4d, RMSE: %7.4f, 기울기: %7.4f, y절편: %7.4f\" % (i, sess.run(rmse), sess.run(a), sess.run(b)))\n",
    "        print(\"Epoch: {0:4d}, RMSE: {1:7.4f}, 기울기: {2:7.4f}, y절편: {3:7.4f}\".format(i, sess.run(rmse), sess.run(a)[0], sess.run(b)[0]))\n",
    "        time.sleep(0.25)"
   ]
  },
  {
   "cell_type": "code",
   "execution_count": null,
   "id": "937a7aee",
   "metadata": {},
   "outputs": [],
   "source": []
  },
  {
   "cell_type": "code",
   "execution_count": null,
   "id": "7a629dcd",
   "metadata": {},
   "outputs": [],
   "source": []
  }
 ],
 "metadata": {
  "kernelspec": {
   "display_name": "Python 3",
   "language": "python",
   "name": "python3"
  },
  "language_info": {
   "codemirror_mode": {
    "name": "ipython",
    "version": 3
   },
   "file_extension": ".py",
   "mimetype": "text/x-python",
   "name": "python",
   "nbconvert_exporter": "python",
   "pygments_lexer": "ipython3",
   "version": "3.6.8"
  }
 },
 "nbformat": 4,
 "nbformat_minor": 5
}
