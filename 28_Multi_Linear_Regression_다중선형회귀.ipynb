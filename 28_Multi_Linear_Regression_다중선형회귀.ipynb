{
 "cells": [
  {
   "cell_type": "code",
   "execution_count": 1,
   "id": "67239d0b",
   "metadata": {},
   "outputs": [
    {
     "name": "stdout",
     "output_type": "stream",
     "text": [
      "WARNING:tensorflow:From c:\\python\\lib\\site-packages\\tensorflow\\python\\compat\\v2_compat.py:101: disable_resource_variables (from tensorflow.python.ops.variable_scope) is deprecated and will be removed in a future version.\n",
      "Instructions for updating:\n",
      "non-resource variables are not supported in the long term\n"
     ]
    }
   ],
   "source": [
    "import warnings\n",
    "warnings.filterwarnings('ignore')\n",
    "import numpy as np\n",
    "import pandas as pd\n",
    "import tensorflow.compat.v1 as tf\n",
    "tf.disable_v2_behavior()"
   ]
  },
  {
   "cell_type": "code",
   "execution_count": 2,
   "id": "11fca91d",
   "metadata": {},
   "outputs": [],
   "source": [
    "# 학습 데이터를 만든다.\n",
    "data = [[2, 0, 81], [4, 4, 93], [6, 2, 91], [8, 3, 97]] # [공부한 시간(x1), 과외 수업 시간(x2), 실제 성적(y)]\n",
    "xData1 = [i[0] for i in data] #공부한 시간\n",
    "xData2 = [i[1] for i in data] #과외 수업 시간\n",
    "yData = [i[2] for i in data] #시험 성적 => 실제값"
   ]
  },
  {
   "cell_type": "code",
   "execution_count": 3,
   "id": "139213cf",
   "metadata": {},
   "outputs": [
    {
     "name": "stdout",
     "output_type": "stream",
     "text": [
      "a1: [8.279686], a2: [4.512471], b: [86.59022]\n"
     ]
    }
   ],
   "source": [
    "# 기울기 a1, a2와 y절편 b를 임의로 정한다.\n",
    "# 기울기의 범위는 0 ~ 10 사이이며, y절편의 범위는 0 ~ 100 사이에서 임의로 변하게 한다. \n",
    "a1 = tf.Variable(tf.random_uniform([1], 0, 10, dtype = tf.float32))\n",
    "a2 = tf.Variable(tf.random_uniform([1], 0, 10, dtype = tf.float32))\n",
    "b = tf.Variable(tf.random_uniform([1], 0, 100, dtype = tf.float32))\n",
    "sess = tf.Session()\n",
    "sess.run(tf.global_variables_initializer())\n",
    "print('a1: {}, a2: {}, b: {}'.format(sess.run(a1), sess.run(a2), sess.run(b)))"
   ]
  },
  {
   "cell_type": "code",
   "execution_count": 4,
   "id": "03707d27",
   "metadata": {},
   "outputs": [],
   "source": [
    "# 예측 성적(y)을 얻기위한 가설(수식)을 만든다.\n",
    "y = a1 * xData1 + a2 * xData2 + b\n",
    "# tensorflow에서 실행할 RMSE(평균 제곱근 오차) 수식(우차(비용) 함수)를 만든다.\n",
    "rmse = tf.sqrt(tf.reduce_mean(tf.square(y - yData)))\n",
    "# 경사 하강법 알고리즘을 이용해서 RMSE를 최소로 하는 값을 찾는 수식을 만든다.\n",
    "gradient_descent = tf.train.GradientDescentOptimizer(0.1).minimize(rmse)"
   ]
  },
  {
   "cell_type": "code",
   "execution_count": 6,
   "id": "0ea087be",
   "metadata": {},
   "outputs": [
    {
     "name": "stdout",
     "output_type": "stream",
     "text": [
      "Epoch:    0, RMSE: 21.9525, 기울기 a1:  1.9339, 기울기 a2:  7.4513, y절편: 43.7011\n",
      "Epoch:  200, RMSE: 10.5174, 기울기 a1:  5.0650, 기울기 a2:  4.1004, y절편: 51.8076\n",
      "Epoch:  400, RMSE:  7.3294, 기울기 a1:  4.1368, 기울기 a2:  3.2228, y절편: 59.6810\n",
      "Epoch:  600, RMSE:  4.1642, 기울기 a1:  3.0019, 기울기 a2:  2.8045, y절편: 67.5448\n",
      "Epoch:  800, RMSE:  1.8325, 기울기 a1:  2.1072, 기울기 a2:  2.5188, y절편: 75.2070\n",
      "Epoch: 1000, RMSE:  1.8369, 기울기 a1:  1.8374, 기울기 a2:  2.4313, y절편: 77.4287\n",
      "Epoch: 1200, RMSE:  1.8370, 기울기 a1:  1.7820, 기울기 a2:  2.4123, y절편: 77.8190\n",
      "Epoch: 1400, RMSE:  1.8370, 기울기 a1:  1.7720, 기울기 a2:  2.4089, y절편: 77.8879\n",
      "Epoch: 1600, RMSE:  1.8370, 기울기 a1:  1.7703, 기울기 a2:  2.4083, y절편: 77.9000\n",
      "Epoch: 1800, RMSE:  1.8370, 기울기 a1:  1.7700, 기울기 a2:  2.4082, y절편: 77.9022\n",
      "Epoch: 2000, RMSE:  1.8369, 기울기 a1:  1.7699, 기울기 a2:  2.4082, y절편: 77.9022\n",
      "Epoch: 2200, RMSE:  1.8369, 기울기 a1:  1.7699, 기울기 a2:  2.4082, y절편: 77.9022\n",
      "Epoch: 2400, RMSE:  1.8369, 기울기 a1:  1.7699, 기울기 a2:  2.4082, y절편: 77.9022\n",
      "Epoch: 2600, RMSE:  1.8369, 기울기 a1:  1.7699, 기울기 a2:  2.4082, y절편: 77.9022\n",
      "Epoch: 2800, RMSE:  1.8369, 기울기 a1:  1.7699, 기울기 a2:  2.4082, y절편: 77.9022\n",
      "Epoch: 3000, RMSE:  1.8369, 기울기 a1:  1.7699, 기울기 a2:  2.4082, y절편: 77.9022\n"
     ]
    }
   ],
   "source": [
    "# 학습시킨다.\n",
    "import time \n",
    "sess = tf.Session()\n",
    "sess.run(tf.global_variables_initializer())\n",
    "\n",
    "for i in range(3001):\n",
    "    sess.run(gradient_descent)\n",
    "    if i % 200 == 0:\n",
    "        print(\"Epoch: {0:4d}, RMSE: {1:7.4f}, 기울기 a1: {2:7.4f}, 기울기 a2: {3:7.4f}, y절편: {4:7.4f}\".format(i, sess.run(rmse), sess.run(a1)[0], sess.run(a2)[0], sess.run(b)[0]))\n",
    "        time.sleep(0.25)"
   ]
  },
  {
   "cell_type": "code",
   "execution_count": null,
   "id": "316bacf6",
   "metadata": {},
   "outputs": [],
   "source": []
  },
  {
   "cell_type": "code",
   "execution_count": null,
   "id": "c3a23f84",
   "metadata": {},
   "outputs": [],
   "source": []
  }
 ],
 "metadata": {
  "kernelspec": {
   "display_name": "Python 3",
   "language": "python",
   "name": "python3"
  },
  "language_info": {
   "codemirror_mode": {
    "name": "ipython",
    "version": 3
   },
   "file_extension": ".py",
   "mimetype": "text/x-python",
   "name": "python",
   "nbconvert_exporter": "python",
   "pygments_lexer": "ipython3",
   "version": "3.6.8"
  }
 },
 "nbformat": 4,
 "nbformat_minor": 5
}
