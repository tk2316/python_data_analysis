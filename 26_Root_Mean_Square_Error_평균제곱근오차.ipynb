{
 "cells": [
  {
   "cell_type": "markdown",
   "id": "48bd1301",
   "metadata": {},
   "source": [
    "평균 제곱근 오차 (Root Mean Square Error, RMSE)   \n",
    "임의의 선을 그리고 난 후 이 선이 얼마나 잘 그려졌는지 평가해서 조금씩 수정해 나간다.   \n",
    "이를 위해서 주어진 선의 오차를 평가하는 알고리즘이 필요한데 그 중에서 가장 많이 사용되는 방법이 평균 제곱근 오차이다 (RMSE).\n"
   ]
  },
  {
   "cell_type": "code",
   "execution_count": 99,
   "id": "8408473c",
   "metadata": {},
   "outputs": [],
   "source": [
    "import warnings\n",
    "warnings.filterwarnings('ignore')\n",
    "import numpy as np\n",
    "import pandas as pd"
   ]
  },
  {
   "cell_type": "code",
   "execution_count": 100,
   "id": "dd11b1a6",
   "metadata": {},
   "outputs": [
    {
     "name": "stdout",
     "output_type": "stream",
     "text": [
      "공부한 시간: 2, 실제 성적: 81\n",
      "공부한 시간: 4, 실제 성적: 93\n",
      "공부한 시간: 6, 실제 성적: 91\n",
      "공부한 시간: 8, 실제 성적: 97\n"
     ]
    }
   ],
   "source": [
    "# x, y의 데이터 값이 1건씩 저장된 리스트 => [공부한 시간(x), 실제 성적(y)]\n",
    "data = [[2,81],[4,93],[6,91],[8,97]]\n",
    "# 기울기 a와 y절편 b를 임의로 정한다 => [기울기, y절판]  \n",
    "ab = [3, 76]     # OLS(최소제곱법)로 찾은 a값과 b값은 2.3과 79.0이다. 임의로 정한값들의 결과는 오차값이 더 클것이다.\n",
    "#ab = [2.3, 79]  is 2.880972058177584\n",
    "for i in data:\n",
    "    print('공부한 시간: {}, 실제 성적: {}'.format(i[0], i[1]))"
   ]
  },
  {
   "cell_type": "code",
   "execution_count": 101,
   "id": "1af9a053",
   "metadata": {},
   "outputs": [
    {
     "name": "stdout",
     "output_type": "stream",
     "text": [
      "공부한 시간: 2, 실제 성적: 81\n",
      "공부한 시간: 4, 실제 성적: 93\n",
      "공부한 시간: 6, 실제 성적: 91\n",
      "공부한 시간: 8, 실제 성적: 97\n"
     ]
    }
   ],
   "source": [
    "# 공부한 시간(x), 실제 성적(y)의 데이터가 1건씩 저장된 리스트에서 공부한 시간과 시험 성적을 뽑아내서 별도의 리스트에 저장한다.\n",
    "x = [i[0] for i in data] #공부한 시간\n",
    "y = [i[1] for i in data] #시험 성적\n",
    "\n",
    "\n",
    "for i in range(len(x)):\n",
    "    print('공부한 시간: {}, 실제 성적: {}'.format(x[i], y[i]))"
   ]
  },
  {
   "cell_type": "code",
   "execution_count": 102,
   "id": "42d50395",
   "metadata": {},
   "outputs": [],
   "source": [
    "# y = a * x + b에 a(기울기), b(y절편) 값을 대입해서 결과(예측 성적, 예측값)을 계산하는 함수\n",
    "def predict(x):\n",
    "    return ab[0] * x + ab[1]\n"
   ]
  },
  {
   "cell_type": "code",
   "execution_count": 103,
   "id": "672b7c34",
   "metadata": {},
   "outputs": [
    {
     "name": "stdout",
     "output_type": "stream",
     "text": [
      "공부한 시간: 2, 실제 성적 81, 예측 성적: 82\n",
      "공부한 시간: 4, 실제 성적 93, 예측 성적: 88\n",
      "공부한 시간: 6, 실제 성적 91, 예측 성적: 94\n",
      "공부한 시간: 8, 실제 성적 97, 예측 성적: 100\n",
      "**********************\n",
      "predict_result: [82, 88, 94, 100]\n"
     ]
    }
   ],
   "source": [
    "# 임의로 정한 기울기와 y절편으로 예측 성적을 계산한다.\n",
    "# 임의로 정한 가울기와 y절편을 이용해서 예측 성적이 저장될 빈 리스트를 만든다. => 빈 리스트에 데이터는 append() 함수로 추가한다.\n",
    "predict_result = []\n",
    "# 모든 공부 시간(x) 값을 한 번씩 대입해서 예측 성적(predict_result) 리스트를 완성한다.\n",
    "for i in range(len(x)):\n",
    "    # 공부한 시간에 따른 예측 성적을 계산하는 함수 predict()를 실행해서 얻어진 예측 성적을 predict_result에 추가한다.\n",
    "    predict_result.append(predict(x[i]))\n",
    "    print('공부한 시간: {}, 실제 성적 {}, 예측 성적: {}'.format(x[i], y[i], predict(x[i])))\n",
    "    \n",
    "print('**********************')\n",
    "print('predict_result: {}'.format(predict_result))"
   ]
  },
  {
   "cell_type": "markdown",
   "id": "bef1090b",
   "metadata": {},
   "source": [
    "|예측 성적 - 실제 성적| 는 오차다   \n",
    "이젠는 평균제곱근 오차를 만든다."
   ]
  },
  {
   "cell_type": "code",
   "execution_count": 104,
   "id": "6a474310",
   "metadata": {},
   "outputs": [],
   "source": [
    "# 평균 제곱근 오차를 계산하는 함수\n",
    "# rmse(예측성적, 실제성적) => 인수로 넘겨받는 데이터는 넘파이 배열 타입의 데이터 이다.\n",
    "def rmse(predict_result, y):\n",
    "    return np.sqrt(((predict_result - y) ** 2).mean()) #편차"
   ]
  },
  {
   "cell_type": "code",
   "execution_count": 105,
   "id": "832bda8e",
   "metadata": {},
   "outputs": [],
   "source": [
    "# 평균 제곱근 오차 함수를 각각의 y값에 대입해서 최종 결과(오차)를 계산하는 함수\n",
    "# 평균 제곱근 오차를 계산할 때 넘파이 배열로 만들어 평균 제곱근 오차를 계산하는 함수 rmse()를 호출한다.\n",
    "def rmse_val(predict_result, y):\n",
    "    # 넘파이의 array() 함수는 인수로 지정된 리스트 타입의 데이터를 넘파이 배열 형태로 변환한다.\n",
    "    # 넘파이 배열로 변환된 예측 성적과 실제 성적을 가지고 평균 제곱근 오차를 계산하는 함수를 실행해서 결과를 리턴시킨다.\n",
    "    return rmse(np.array(predict_result), np.array(y)) #파이썬 리스트 타입의 데이터 predict_result와 y를 numpy 배열 만들어 rsme()로 넘긴다.\n",
    "\n",
    "    "
   ]
  },
  {
   "cell_type": "code",
   "execution_count": 106,
   "id": "2a5f7f26",
   "metadata": {},
   "outputs": [
    {
     "name": "stdout",
     "output_type": "stream",
     "text": [
      "RMSE(평균 제곱근 오차): 3.3166247903554\n"
     ]
    }
   ],
   "source": [
    "# 평균 제곱근 오차를 출력한다.\n",
    "rmse_result = rmse_val(predict_result, y)\n",
    "print(\"RMSE(평균 제곱근 오차): {}\".format(rmse_result))"
   ]
  },
  {
   "cell_type": "markdown",
   "id": "121baa5f",
   "metadata": {},
   "source": [
    "임의로 지정한 기울기 (a = 3)와 y절편(b = 76)은 3.3166247903554의 평균 제곱근 오차가 발생되는 것을 알 수 있다.   \n",
    "이제 남은 일은 이 오차를 줄이면서 새로운 선을 긋는 일이다.   \n",
    "이를 위해 기울기와 y절편을 적절히 조정하면서 오차의 변화를 살피고 오차가 최소가 되는 기울기와 y절편을 찾아야 한다.   \n",
    "25_OLS(OrdinaryLeastSquares)_최소제곱법 예제에서 계산한 기울기와 y절편을 사용시 2.880972058177584의 평균 제곱근 오차가 발생한다."
   ]
  },
  {
   "cell_type": "code",
   "execution_count": null,
   "id": "a1e1b777",
   "metadata": {},
   "outputs": [],
   "source": []
  },
  {
   "cell_type": "code",
   "execution_count": null,
   "id": "0a7e06d9",
   "metadata": {},
   "outputs": [],
   "source": []
  },
  {
   "cell_type": "code",
   "execution_count": null,
   "id": "541f72fa",
   "metadata": {},
   "outputs": [],
   "source": []
  }
 ],
 "metadata": {
  "kernelspec": {
   "display_name": "Python 3",
   "language": "python",
   "name": "python3"
  },
  "language_info": {
   "codemirror_mode": {
    "name": "ipython",
    "version": 3
   },
   "file_extension": ".py",
   "mimetype": "text/x-python",
   "name": "python",
   "nbconvert_exporter": "python",
   "pygments_lexer": "ipython3",
   "version": "3.6.8"
  }
 },
 "nbformat": 4,
 "nbformat_minor": 5
}
