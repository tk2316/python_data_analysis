{
 "cells": [
  {
   "cell_type": "code",
   "execution_count": 1,
   "id": "d3ec6fa7",
   "metadata": {},
   "outputs": [],
   "source": [
    "import warnings\n",
    "warnings.filterwarnings('ignore')"
   ]
  },
  {
   "cell_type": "code",
   "execution_count": 2,
   "id": "0432ea8c",
   "metadata": {},
   "outputs": [
    {
     "name": "stdout",
     "output_type": "stream",
     "text": [
      "WARNING:tensorflow:From c:\\python\\lib\\site-packages\\tensorflow\\python\\compat\\v2_compat.py:101: disable_resource_variables (from tensorflow.python.ops.variable_scope) is deprecated and will be removed in a future version.\n",
      "Instructions for updating:\n",
      "non-resource variables are not supported in the long term\n",
      "2.6.1\n"
     ]
    }
   ],
   "source": [
    "# tensorflow 다운받기\n",
    "# pip install tensorflow\n",
    "# import tensorflow as tf  => 2.x 버전 import (여기서는 2.x 버전을 안쓸것이다)\n",
    "# tensorflow 2.x 버전이 설치된 경우 tensorflow 1.x 버전 문법을 사용하려면 아래와 같이 import 한다.\n",
    "import tensorflow.compat.v1 as tf\n",
    "# tensorflow 2.x 버전의 문법을 사용하지 않겠다고 선언한다.\n",
    "tf.disable_v2_behavior()\n",
    "print(tf.__version__)\n"
   ]
  },
  {
   "cell_type": "markdown",
   "id": "26391ed5",
   "metadata": {},
   "source": [
    "상수, 수식을 만든다. => 세션을 만든다. => 실행한다.  \n",
    "    \n",
    "tensorflow 상수"
   ]
  },
  {
   "cell_type": "code",
   "execution_count": 3,
   "id": "6ad57818",
   "metadata": {},
   "outputs": [
    {
     "name": "stdout",
     "output_type": "stream",
     "text": [
      "Tensor(\"Const:0\", shape=(), dtype=int32)\n",
      "Tensor(\"Const_1:0\", shape=(), dtype=int32)\n",
      "Tensor(\"add:0\", shape=(), dtype=int32)\n",
      "Tensor(\"Add_1:0\", shape=(), dtype=int32)\n",
      "a =  300\n",
      "b =  500\n",
      "c =  800\n",
      "ts.add(a, b) 800\n"
     ]
    }
   ],
   "source": [
    "# constant(): tensorflow에서 사용할 상수를 정의하는 함수\n",
    "a = tf.constant(300) # tensorflow에서 사용할 상수를 정의한다.\n",
    "print(a)\n",
    "\n",
    "b = tf.constant(500)\n",
    "print(b)\n",
    "\n",
    "c = a + b        # tensorflow에서 사용할 수식을 정의(준비)한다.\n",
    "print(c)         # 결과에 'add'\n",
    "\n",
    "d = tf.add(a, b)\n",
    "print(d)         # 결과에 'Add'\n",
    "\n",
    "# tensorflow에서는 python이랑 똑같은 산수를 사용해도 똑같은 결과가 나오지 않는다.\n",
    "\n",
    "# tensorflow는 반드시 Session이라는 작업 영역을 만든 후 삼수, 변수, 수식을 대입한 다음 실행해야 한다.\n",
    "sess = tf.Session() # tensorflow에서 Session을 만든다.\n",
    "\n",
    "# run(): tensorflow에서 Session에 대입된 내용을 실행하는 함수.\n",
    "print('a = ', sess.run(a))\n",
    "print('b = ', sess.run(b))\n",
    "print('c = ', sess.run(c))\n",
    "print('ts.add(a, b)', sess.run(d))"
   ]
  },
  {
   "cell_type": "markdown",
   "id": "e1274dd9",
   "metadata": {},
   "source": [
    "변수를 만든다. => 세션을 만든다. => 변수를 초기화 시킨다. => 실행한다."
   ]
  },
  {
   "cell_type": "code",
   "execution_count": 5,
   "id": "eb89bbc3",
   "metadata": {},
   "outputs": [
    {
     "name": "stdout",
     "output_type": "stream",
     "text": [
      "<tf.Variable 'Variable_3:0' shape=() dtype=int32_ref>\n",
      "<tf.Variable 'Variable_4:0' shape=() dtype=int32_ref>\n",
      "Tensor(\"mul_2:0\", shape=(), dtype=int32)\n",
      "a =  5\n",
      "b =  3\n",
      "a * b =  15\n",
      "tf.multiply(a, b) =  45\n"
     ]
    }
   ],
   "source": [
    "# Variable(): tensorflow에서 사용할 변수를 정의하는 함수\n",
    "a = tf.Variable(5) # tensorflow에서 사용할 변수를 정의하고 데이터를 넣어준다.\n",
    "print(a)\n",
    "b = tf.Variable(3)\n",
    "print(b)\n",
    "c = a * b\n",
    "print(c)\n",
    "\n",
    "sess = tf.Session()\n",
    "\n",
    "\n",
    "# Variable() 함수를 사용해서 생성한 tensorflow 변수는 반드시 사용하기 전에 초기화시켜야 한다.\n",
    "# tensorflow 변수 초기화는 변수를 사용하기 전에만 실행해야 한다.\n",
    "\n",
    "# tf.global_variables_initializer():  tensorflow에서 사용할 변수를 초기화시키는 함수\n",
    "\n",
    "# tensorflow 변수 초기화\n",
    "sess.run(tf.global_variables_initializer())\n",
    "\n",
    "print('a = ', sess.run(a))    # 변수를 초기화 시키지 않아서 error가 뜨는거다\n",
    "print('b = ', sess.run(b))\n",
    "print('a * b = ', sess.run(c))\n",
    "\n",
    "# tensorflow 변수에 저장된 데이터를 변경했다.\n",
    "a = tf.Variable(15)\n",
    "# tensorflow 변수에 저장된 데이터가 변경되면 변수를 다시 초기화 시켜줘야한다\n",
    "d = tf.multiply(a, b)\n",
    "\n",
    "sess.run(tf.global_variables_initializer())\n",
    "print('tf.multiply(a, b) = ', sess.run(d))\n",
    "\n",
    "# 변수를 만들거나/변경시키면 초기화를 시켜야한다. 초기화를 해야하는 시점은 변수를 사용하기 전이다."
   ]
  },
  {
   "cell_type": "code",
   "execution_count": null,
   "id": "edd7a788",
   "metadata": {},
   "outputs": [],
   "source": []
  }
 ],
 "metadata": {
  "kernelspec": {
   "display_name": "Python 3",
   "language": "python",
   "name": "python3"
  },
  "language_info": {
   "codemirror_mode": {
    "name": "ipython",
    "version": 3
   },
   "file_extension": ".py",
   "mimetype": "text/x-python",
   "name": "python",
   "nbconvert_exporter": "python",
   "pygments_lexer": "ipython3",
   "version": "3.6.8"
  }
 },
 "nbformat": 4,
 "nbformat_minor": 5
}
