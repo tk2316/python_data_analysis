{
 "cells": [
  {
   "cell_type": "code",
   "execution_count": 21,
   "id": "4bf650c1",
   "metadata": {},
   "outputs": [],
   "source": [
    "import warnings\n",
    "warnings.filterwarnings('ignore')\n",
    "import tensorflow.compat.v1 as tf\n",
    "tf.disable_v2_behavior()"
   ]
  },
  {
   "cell_type": "markdown",
   "id": "0c6e414f",
   "metadata": {},
   "source": [
    "학습 데이터를 만든다."
   ]
  },
  {
   "cell_type": "code",
   "execution_count": 22,
   "id": "406257e1",
   "metadata": {},
   "outputs": [],
   "source": [
    "xData = [1,2,3,4,5,6,7]   # 근무시간\n",
    "yData = [25000, 55000, 75000, 110000, 128000, 155000, 180000]   #근무 시간에 따른 매출 금액, 실제값"
   ]
  },
  {
   "cell_type": "markdown",
   "id": "763a5723",
   "metadata": {},
   "source": [
    "난수를 발생시켜 학습할 데이터의 기울기(가중치)와 y절편(바이어스)을 정한다.   \n",
    "난수를 발생시켜서 작업하는 이유는 과적합을 방지하기 위해서이다.   \n",
    "과적합이란 학습시킨 데이터에서는 높은 정확도를 보이지만 학습시킨 데이터 이회의 데이터에서는 낮은 정확도를 보이는 문제점을 말한다.    "
   ]
  },
  {
   "cell_type": "code",
   "execution_count": 23,
   "id": "354db5de",
   "metadata": {},
   "outputs": [
    {
     "name": "stdout",
     "output_type": "stream",
     "text": [
      "a = <tf.Variable 'Variable_4:0' shape=(1,) dtype=float32_ref>. b = <tf.Variable 'Variable_5:0' shape=(1,) dtype=float32_ref>\n"
     ]
    }
   ],
   "source": [
    "# Variable(): tensorflow에서 사용할 변수를 선언한다.\n",
    "# tf.random_uniform([난수의 갯수], 난수의 최소값, 난수의 최대값): tensorflow에서 사용할 난수를 발생시킨다.\n",
    "a = tf.Variable(tf.random_uniform([1], -100, 100))  #가을기(과중치), -100 ~ 100 사이의 난수\n",
    "b = tf.Variable(tf.random_uniform([1], -100, 100))  #y 절편 (바이어스), -100 ~ 100 사이의 난수\n",
    "print('a = {}. b = {}'.format(a,b))"
   ]
  },
  {
   "cell_type": "markdown",
   "id": "e5b6cfdd",
   "metadata": {},
   "source": [
    "tensorflow에서 사용할 변수를 초기화하고 난수로 발생시킨 기울기와 y절편의 값을 확인한다."
   ]
  },
  {
   "cell_type": "code",
   "execution_count": 24,
   "id": "8a80a398",
   "metadata": {},
   "outputs": [
    {
     "name": "stdout",
     "output_type": "stream",
     "text": [
      "a = [-20.727608], b = [-59.10115]\n"
     ]
    }
   ],
   "source": [
    "# tensorflow 변수에 저장된 데이터를 출력하려면 tensorflow의 Session을 만들고 변수를 초기화 시킨 후 run() 함수를 이용한다.\n",
    "# tensorflow 세션을 만든다 => 세션에서 실행한다\n",
    "sess = tf.Session()\n",
    "init = tf.global_variables_initializer()\n",
    "# tensorflow 세션에서 run() 함수로 변수 초기화를 적용시킨다.\n",
    "sess.run(init)\n",
    "print('a = {}, b = {}'.format(sess.run(a),sess.run(b)))"
   ]
  },
  {
   "cell_type": "markdown",
   "id": "4ff1e85c",
   "metadata": {},
   "source": [
    "근무 시간과 매출 금액을 기억할 tensorflow에서 사용하는 자료형 (placeholder)을 선언한다."
   ]
  },
  {
   "cell_type": "code",
   "execution_count": 25,
   "id": "18e2aaea",
   "metadata": {},
   "outputs": [],
   "source": [
    "x = tf.placeholder(dtype = tf.float32) # 근무시간(xData)를 기억하는 placeholder\n",
    "y = tf.placeholder(dtype = tf.float32) # 매출금액(yData)를 기억하는 placeholder"
   ]
  },
  {
   "cell_type": "markdown",
   "id": "24e4ff70",
   "metadata": {},
   "source": [
    "1차 방정식 형태의 가설을 세우고 비용(오차) 함수를 정의한다.   "
   ]
  },
  {
   "cell_type": "code",
   "execution_count": 26,
   "id": "c42881cf",
   "metadata": {},
   "outputs": [],
   "source": [
    "# 1차 방정식 형태의 가설,  Y => 예측값\n",
    "Y = a * x + b\n",
    "# 비용(오차) 함수 => 실제값(yData  => y라는 placeholder에 저장한다.)과 예측값(Y)의 편차의 제곱에 대한 평균을 이용한다.\n",
    "# => 평균 제곱법\n",
    "# reduce_mean(): tensorflow에서 평균을 계산하는 함수제곱값을 계산하는 함수\n",
    "# square(): tensorflow에서 \n",
    "cost = tf.reduce_mean(tf.square(Y - y)) # 예측값과 실제값의 편차에 제곱의 제곱에 대한 평균 = 오차"
   ]
  },
  {
   "cell_type": "markdown",
   "id": "1b4adbd2",
   "metadata": {},
   "source": [
    "tensorflow의 경사 하강법 비용(오차) 함수의 결과를 가장 작게 만드는 방향으로 학습을 시키도록 정의한다.   \n",
    "\n",
    "Gradient Descent is an optimization algorithm for finding a local minimum of a differentiable function. Gradient descent is simply used in machine learning to find the values of a function's parameters (coefficients) that minimize a cost function as far as possible."
   ]
  },
  {
   "cell_type": "code",
   "execution_count": 27,
   "id": "d7b92001",
   "metadata": {},
   "outputs": [],
   "source": [
    "# 경사 하강 알고리즘의 학습율을 설정한다\n",
    "learning_rate = tf.Variable(0.01)\n",
    "# train.GradientDescentOptimizer(학습율): tensorflow에서 학습율에서 학습율에 따른 비용(오차)를 계산하는 함수\n",
    "optimizer = tf.train.GradientDescentOptimizer(learning_rate)   #경사하강을 paramater안에 있는 learning_rate 단위로 실행해라.\n",
    "# minimize(): 경사하강 알고리즘에 따라 인수로 지정된 비용(오차) 함수의 최고값을 찾는다.\n",
    "train = optimizer.minimize(cost)      #cost가 최소가 되는 값을 경사하강 learning_rate으로 찾아라.\n",
    "# tf.train.GradientDescentOptimizer(learning_rate).minimize(cost)"
   ]
  },
  {
   "cell_type": "markdown",
   "id": "f2012d0f",
   "metadata": {},
   "source": [
    "학습시킨다 => 반복해서 수식을 실행한다."
   ]
  },
  {
   "cell_type": "code",
   "execution_count": 33,
   "id": "8911ab45",
   "metadata": {},
   "outputs": [
    {
     "name": "stdout",
     "output_type": "stream",
     "text": [
      "index =    0 ===> cost = 4579015680.00 ===> a (slope) =   10377.88 ===> b (bias) =    2170.09\n",
      "index =  500 ===> cost =    8690010.00 ===> a (slope) =   25534.73 ===> b (bias) =    1963.99\n",
      "index = 1000 ===> cost =    8633873.00 ===> a (slope) =   25627.10 ===> b (bias) =    1506.59\n",
      "index = 1500 ===> cost =    8632674.00 ===> a (slope) =   25640.56 ===> b (bias) =    1439.94\n",
      "index = 2000 ===> cost =    8632654.00 ===> a (slope) =   25642.52 ===> b (bias) =    1430.23\n",
      "index = 2500 ===> cost =    8632650.00 ===> a (slope) =   25642.80 ===> b (bias) =    1428.83\n",
      "index = 3000 ===> cost =    8632658.00 ===> a (slope) =   25642.84 ===> b (bias) =    1428.63\n",
      "index = 3500 ===> cost =    8632656.00 ===> a (slope) =   25642.85 ===> b (bias) =    1428.61\n",
      "index = 4000 ===> cost =    8632656.00 ===> a (slope) =   25642.85 ===> b (bias) =    1428.61\n",
      "index = 4500 ===> cost =    8632656.00 ===> a (slope) =   25642.85 ===> b (bias) =    1428.61\n",
      "index = 5000 ===> cost =    8632656.00 ===> a (slope) =   25642.85 ===> b (bias) =    1428.61\n"
     ]
    }
   ],
   "source": [
    "# 세션을 만들고 변수를 초기화시킨다.\n",
    "sees = tf.Session()\n",
    "sess.run(tf.global_variables_initializer())\n",
    "\n",
    "for i in range(5001):\n",
    "    # 비용(오차) 함수를 가장 작게 만드는 학습을 할 수 있도록 placeholder에 데이터를 대입한다. \n",
    "    # 학습할 데이터는 반드시 'feed_dict'라는 이름의 딕셔너리 타입의 자료형을 만들어  대입해야 한다.\n",
    "    # 'feed_dict' 딕셔너리의 key에는 placeholder의 이름을, value에는 각 placeholder에 대입할 리스트 타입의 데이터를 지정한다.\n",
    "    # tensorflow 세션에서 비용(오차) 함수를 가장 작게 만드는 방향으로 'feed_dict' 딕셔너리의 데이터를 학습시킨다.\n",
    "    sess.run(train, feed_dict= {x: xData, y: yData})\n",
    "    \n",
    "    # 500번 단위로 학습될 떄 마다 머신러닝이 실행되는 중간 결과를 확인한다.\n",
    "    if i % 500 == 0:\n",
    "        # index, 오차, 기울기, y절편\n",
    "        print('index = {0:4d} ===> cost = {1:13.2f} ===> a (slope) = {2:10.2f} ===> b (bias) = {3:10.2f}'.format(i, sess.run(cost, feed_dict = {x: xData, y: yData}), sess.run(a)[0], sess.run(b)[0]))"
   ]
  },
  {
   "cell_type": "markdown",
   "id": "0a2e8afd",
   "metadata": {},
   "source": [
    "3500    8632656.00   25642.85    1428.61    \n",
    "4000    8632656.00   25642.85    1428.61    \n",
    "4500    8632656.00   25642.85    1428.61    \n",
    "5000    8632656.00   25642.85    1428.61    \n",
    "기울기와 y 절판이 똑같다    \n",
    "최적의 기울기 25642.85    최적의 y 절판 1428.6   \n",
    "데이터 모델을 제일 정확하게 계산할 수 있는 a 값과 b 값이 계산됬다."
   ]
  },
  {
   "cell_type": "markdown",
   "id": "1502d902",
   "metadata": {},
   "source": [
    "학습이 완료된 후 원하는 입력에 대한 결과를 출력한다"
   ]
  },
  {
   "cell_type": "code",
   "execution_count": 34,
   "id": "3dc2236f",
   "metadata": {},
   "outputs": [
    {
     "name": "stdout",
     "output_type": "stream",
     "text": [
      " 8시간 근무했을 때 매출 기대금액: 206,571\n",
      " 9시간 근무했을 때 매출 기대금액: 232,214\n",
      "10시간 근무했을 때 매출 기대금액: 257,857\n",
      "11시간 근무했을 때 매출 기대금액: 283,500\n",
      "12시간 근무했을 때 매출 기대금액: 309,143\n",
      "13시간 근무했을 때 매출 기대금액: 334,786\n",
      "14시간 근무했을 때 매출 기대금액: 360,428\n",
      "15시간 근무했을 때 매출 기대금액: 386,071\n",
      "16시간 근무했을 때 매출 기대금액: 411,714\n",
      "17시간 근무했을 때 매출 기대금액: 437,357\n",
      "18시간 근무했을 때 매출 기대금액: 463,000\n",
      "19시간 근무했을 때 매출 기대금액: 488,643\n",
      "20시간 근무했을 때 매출 기대금액: 514,286\n",
      "21시간 근무했을 때 매출 기대금액: 539,928\n",
      "22시간 근무했을 때 매출 기대금액: 565,571\n",
      "23시간 근무했을 때 매출 기대금액: 591,214\n",
      "24시간 근무했을 때 매출 기대금액: 616,857\n"
     ]
    }
   ],
   "source": [
    "import time \n",
    "for i in range(8, 25): # 8시간부터 24시간 안쉬고 일하면 얼마를 벌 수 있을까?\n",
    "    print('{0:2d}시간 근무했을 때 매출 기대금액: {1:7,.0f}'.format(i, sess.run(Y, feed_dict= {x: [i]})[0]))\n",
    "    time.sleep(0.5)\n",
    "# 학습후 제일 정확한 예측 모델 (a와 b를) 찾은후 더 많은 결과를 찾을 수 있다. \n",
    "# Y = a * x + b ==> a와 b는 학습결과로 찾았으면, 들어가야하는 데이터는 근무시간 x 말고는 없다."
   ]
  },
  {
   "cell_type": "code",
   "execution_count": null,
   "id": "b1aadf91",
   "metadata": {},
   "outputs": [],
   "source": []
  }
 ],
 "metadata": {
  "kernelspec": {
   "display_name": "Python 3",
   "language": "python",
   "name": "python3"
  },
  "language_info": {
   "codemirror_mode": {
    "name": "ipython",
    "version": 3
   },
   "file_extension": ".py",
   "mimetype": "text/x-python",
   "name": "python",
   "nbconvert_exporter": "python",
   "pygments_lexer": "ipython3",
   "version": "3.6.8"
  }
 },
 "nbformat": 4,
 "nbformat_minor": 5
}
